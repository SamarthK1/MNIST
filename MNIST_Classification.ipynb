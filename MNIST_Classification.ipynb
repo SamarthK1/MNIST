{
  "nbformat": 4,
  "nbformat_minor": 0,
  "metadata": {
    "colab": {
      "provenance": [],
      "gpuType": "V28"
    },
    "kernelspec": {
      "name": "python3",
      "display_name": "Python 3"
    },
    "language_info": {
      "name": "python"
    },
    "accelerator": "TPU"
  },
  "cells": [
    {
      "cell_type": "markdown",
      "source": [
        "# Classifying Handwritten Digits from the MNIST Dataset\n",
        "\n",
        "\n",
        "---\n",
        "\n",
        "\n",
        "\n",
        "> Using PyTorch\n",
        "\n"
      ],
      "metadata": {
        "id": "DzWaISSXQ5Rt"
      }
    },
    {
      "cell_type": "markdown",
      "source": [
        "Import Libraries"
      ],
      "metadata": {
        "id": "CD9h5JImRJkc"
      }
    },
    {
      "cell_type": "code",
      "execution_count": 46,
      "metadata": {
        "id": "Efadze9QQy0Z"
      },
      "outputs": [],
      "source": [
        "import torch\n",
        "import torch.nn as nn\n",
        "import torch.optim as optim\n",
        "from torch.utils.data import DataLoader\n",
        "from torchvision import datasets, transforms\n",
        "import matplotlib.pyplot as plt"
      ]
    },
    {
      "cell_type": "markdown",
      "source": [
        "### Load the Dataset"
      ],
      "metadata": {
        "id": "eqquL25URaV4"
      }
    },
    {
      "cell_type": "code",
      "source": [
        "transform = transforms.Compose([transforms.ToTensor(), transforms.Normalize((0.5,), (0.5,))])"
      ],
      "metadata": {
        "id": "D9yIqB1iRfCA"
      },
      "execution_count": 47,
      "outputs": []
    },
    {
      "cell_type": "code",
      "source": [
        "train_dataset = datasets.MNIST(root='./data', train=True, transform=transform, download=True)\n",
        "test_dataset = datasets.MNIST(root='./data', train=False, transform=transform, download=True)"
      ],
      "metadata": {
        "id": "lJ5Rj4hyRjHv"
      },
      "execution_count": 48,
      "outputs": []
    },
    {
      "cell_type": "code",
      "source": [
        "train_loader = DataLoader(train_dataset, batch_size=64, shuffle=True)\n",
        "test_loader = DataLoader(test_dataset, batch_size=64, shuffle=False)"
      ],
      "metadata": {
        "id": "d3z99ClyRpDv"
      },
      "execution_count": 8,
      "outputs": []
    },
    {
      "cell_type": "markdown",
      "source": [
        "Visualize a few examples"
      ],
      "metadata": {
        "id": "STklpvwURsET"
      }
    },
    {
      "cell_type": "code",
      "source": [
        "samples = iter(train_loader)\n",
        "sample_data, sample_target = next(samples)\n",
        "for i in range(4):\n",
        "    plt.subplot(2, 2, i+1)\n",
        "    plt.imshow(sample_data[i][0], cmap='gray')\n",
        "    plt.title(f\"Label: {sample_target[i]}\")\n",
        "plt.show()"
      ],
      "metadata": {
        "colab": {
          "base_uri": "https://localhost:8080/",
          "height": 452
        },
        "id": "zCkyeNJRRtfc",
        "outputId": "932daf9e-3c50-4e9c-be82-857617292ecb"
      },
      "execution_count": 49,
      "outputs": [
        {
          "output_type": "display_data",
          "data": {
            "text/plain": [
              "<Figure size 640x480 with 4 Axes>"
            ],
            "image/png": "[encoded data removed]"
          },
          "metadata": {}
        }
      ]
    },
    {
      "cell_type": "markdown",
      "source": [
        "### Define the Model"
      ],
      "metadata": {
        "id": "6vYPotHYR4VZ"
      }
    },
    {
      "cell_type": "code",
      "source": [
        "class MNISTModel(nn.Module):\n",
        "\n",
        "    \"\"\"\n",
        "    A simple neural network model for classifying handwritten digits from the MNIST dataset.\n",
        "    \"\"\"\n",
        "    def __init__(self):\n",
        "        # MNIST is simple enough for linear layers, so Conv2D is not needed.\n",
        "        super(MNISTModel, self).__init__()\n",
        "        self.conv1 = nn.Linear(28*28, 128)\n",
        "        self.conv2 = nn.Linear(128,64)\n",
        "        self.conv3 = nn.Linear(64,32)\n",
        "        self.conv4 = nn.Linear(32, 10)\n",
        "\n",
        "    def forward(self, x):\n",
        "        # Flatten the input\n",
        "        x = x.view(-1, 28 * 28)\n",
        "\n",
        "        # Apply ReLU activation\n",
        "        x = torch.relu(self.conv1(x))\n",
        "        x = torch.relu(self.conv2(x))\n",
        "        x = torch.relu(self.conv3(x))\n",
        "\n",
        "        # Output layer\n",
        "        x = self.conv4(x)\n",
        "        return x"
      ],
      "metadata": {
        "id": "CPBFfiE1R5vN"
      },
      "execution_count": 50,
      "outputs": []
    },
    {
      "cell_type": "code",
      "source": [
        "model = MNISTModel()\n",
        "criterion = nn.CrossEntropyLoss()\n",
        "optimizer = optim.Adam(model.parameters(), lr=0.001)"
      ],
      "metadata": {
        "id": "vK2SD-VtSR9K"
      },
      "execution_count": 51,
      "outputs": []
    },
    {
      "cell_type": "markdown",
      "source": [
        "### Train the Model"
      ],
      "metadata": {
        "id": "OKbHmc89SeV7"
      }
    },
    {
      "cell_type": "code",
      "source": [
        "def train_model(model, train_loader, criterion, optimizer, num_epochs):\n",
        "\n",
        "    model.train()\n",
        "\n",
        "    for epoch in range(num_epochs):\n",
        "\n",
        "        running_loss = 0.0\n",
        "\n",
        "        for images, labels in train_loader:\n",
        "\n",
        "            optimizer.zero_grad()\n",
        "\n",
        "            outputs = model(images)\n",
        "\n",
        "            loss = criterion(outputs, labels)\n",
        "\n",
        "            # Backpropagation\n",
        "            loss.backward()\n",
        "\n",
        "            optimizer.step()\n",
        "            running_loss += loss.item()\n",
        "\n",
        "        print(f\"Epoch {epoch+1}, Loss: {running_loss/len(train_loader):.4f}\")"
      ],
      "metadata": {
        "id": "r2R4tvYXSfyS"
      },
      "execution_count": 52,
      "outputs": []
    },
    {
      "cell_type": "code",
      "source": [
        "# Training for 10 epochs\n",
        "num_epochs = 10\n",
        "train_model(model, train_loader, criterion, optimizer, num_epochs)"
      ],
      "metadata": {
        "colab": {
          "base_uri": "https://localhost:8080/"
        },
        "id": "9uJED-rtSp_u",
        "outputId": "15eb7e6d-4f77-408d-d83d-1918fb82e70e"
      },
      "execution_count": 53,
      "outputs": [
        {
          "output_type": "stream",
          "name": "stdout",
          "text": [
            "Epoch 1, Loss: 0.4540\n",
            "Epoch 2, Loss: 0.2117\n",
            "Epoch 3, Loss: 0.1539\n",
            "Epoch 4, Loss: 0.1241\n",
            "Epoch 5, Loss: 0.1054\n",
            "Epoch 6, Loss: 0.0915\n",
            "Epoch 7, Loss: 0.0833\n",
            "Epoch 8, Loss: 0.0736\n",
            "Epoch 9, Loss: 0.0653\n",
            "Epoch 10, Loss: 0.0607\n"
          ]
        }
      ]
    },
    {
      "cell_type": "markdown",
      "source": [
        "### Evaluate the Model"
      ],
      "metadata": {
        "id": "rLJzblJSVtdo"
      }
    },
    {
      "cell_type": "code",
      "source": [
        "def evaluate_model(model, test_loader):\n",
        "    model.eval()\n",
        "    correct = 0\n",
        "    total = 0\n",
        "    with torch.no_grad():\n",
        "        for images, labels in test_loader:\n",
        "            outputs = model(images)\n",
        "            _, predicted = torch.max(outputs, 1)\n",
        "            total += labels.size(0)\n",
        "            correct += (predicted == labels).sum().item()\n",
        "\n",
        "    print(f\"Test Accuracy: {100 * correct / total:.2f}%\")"
      ],
      "metadata": {
        "id": "oVTyE0IDVvZ7"
      },
      "execution_count": 54,
      "outputs": []
    },
    {
      "cell_type": "code",
      "source": [
        "evaluate_model(model, test_loader)"
      ],
      "metadata": {
        "colab": {
          "base_uri": "https://localhost:8080/"
        },
        "id": "009rEFK2VyUv",
        "outputId": "e4947625-bb84-417f-f1fd-ed41f95e78f3"
      },
      "execution_count": 55,
      "outputs": [
        {
          "output_type": "stream",
          "name": "stdout",
          "text": [
            "Test Accuracy: 97.27%\n"
          ]
        }
      ]
    },
    {
      "cell_type": "markdown",
      "source": [
        "### Visualize predictions"
      ],
      "metadata": {
        "id": "ud6PNMVCV4bT"
      }
    },
    {
      "cell_type": "code",
      "source": [
        "def visualize_predictions(model, test_loader):\n",
        "    model.eval()\n",
        "    images, labels = next(iter(test_loader))\n",
        "    outputs = model(images)\n",
        "    _, predictions = torch.max(outputs, 1)\n",
        "\n",
        "    plt.figure(figsize=(10, 10))\n",
        "    for i in range(9):\n",
        "        plt.subplot(3, 3, i+1)\n",
        "        plt.imshow(images[i][0], cmap='gray')\n",
        "        plt.title(f\"True: {labels[i]} | Pred: {predictions[i]}\")\n",
        "    plt.show()"
      ],
      "metadata": {
        "id": "Xgl-esF_V5wW"
      },
      "execution_count": 56,
      "outputs": []
    },
    {
      "cell_type": "code",
      "source": [
        "visualize_predictions(model, test_loader)"
      ],
      "metadata": {
        "colab": {
          "base_uri": "https://localhost:8080/",
          "height": 853
        },
        "id": "r987NFTQV7vB",
        "outputId": "7faf1888-70f0-4d4a-b306-bbed69ae240c"
      },
      "execution_count": 57,
      "outputs": [
        {
          "output_type": "display_data",
          "data": {
            "text/plain": [
              "<Figure size 1000x1000 with 9 Axes>"
            ],
            "image/png": "[encoded data removed]"
          },
          "metadata": {}
        }
      ]
    }
  ]
}